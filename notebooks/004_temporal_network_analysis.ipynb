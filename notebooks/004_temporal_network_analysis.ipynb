{
 "cells": [
  {
   "cell_type": "markdown",
   "metadata": {},
   "source": [
    "# Temporal network analysis\n"
   ]
  },
  {
   "cell_type": "code",
   "execution_count": 1,
   "metadata": {},
   "outputs": [
    {
     "name": "stdout",
     "output_type": "stream",
     "text": [
      "Can't load ECM Model in windows, try using it on linux\n"
     ]
    }
   ],
   "source": [
    "# System\n",
    "from pathlib import Path    \n",
    "\n",
    "# Data wrangling\n",
    "import pandas as pd\n",
    "import numpy as np\n",
    "\n",
    "# Data visualization\n",
    "import matplotlib.pyplot as plt\n",
    "import seaborn as sns\n",
    "\n",
    "# Network analysis\n",
    "import networkx as nx\n",
    "import netbone as nb\n",
    "import community\n",
    "\n",
    "# Project specific\n",
    "from src.config import cfg\n",
    "from src.utils import data_explorer as dx\n",
    "from src.utils import viz, nw_utils\n",
    "from src.data_prep import data_prep\n",
    "from src.analysis import sponsor_nw\n",
    "\n",
    "# Misc\n",
    "from IPython.display import display\n",
    "\n",
    "%load_ext autoreload\n",
    "%autoreload 2"
   ]
  },
  {
   "cell_type": "markdown",
   "metadata": {},
   "source": [
    "## Load data\n"
   ]
  },
  {
   "cell_type": "code",
   "execution_count": 3,
   "metadata": {},
   "outputs": [],
   "source": [
    "# Load data\n",
    "data = data_prep.prepare_data()\n",
    "\n",
    "# Focus on bills with policy area\n",
    "data = data.dropna(subset=[\"policy_area\"])"
   ]
  },
  {
   "cell_type": "code",
   "execution_count": null,
   "metadata": {},
   "outputs": [],
   "source": [
    "# Brief summary\n",
    "dx.summarize_df(data)"
   ]
  },
  {
   "cell_type": "code",
   "execution_count": null,
   "metadata": {},
   "outputs": [],
   "source": [
    "periods = sorted(data[\"congress\"].unique())\n",
    "print(f\"Periods: {periods}\")"
   ]
  },
  {
   "cell_type": "markdown",
   "metadata": {},
   "source": [
    "## Senate\n"
   ]
  },
  {
   "cell_type": "code",
   "execution_count": null,
   "metadata": {},
   "outputs": [],
   "source": [
    "GT_S = sponsor_nw.create_temporal_network(\n",
    "    data,\n",
    "    congresses=None,\n",
    "    bill_types=[\"s\"],\n",
    "    policy_areas=None,\n",
    ")"
   ]
  },
  {
   "cell_type": "code",
   "execution_count": null,
   "metadata": {},
   "outputs": [],
   "source": [
    "G_list_1 = [elem[\"bone\"] for elem in GT_S]\n",
    "\n",
    "sponsor_nw.draw_list_of_networks(\n",
    "    G_list_1,\n",
    "    captions=periods,\n",
    "    n_cols=6,\n",
    "    cell_size=(3, 3),\n",
    ")\n",
    "\n",
    "plt.show()"
   ]
  },
  {
   "cell_type": "markdown",
   "metadata": {},
   "source": [
    "## House\n"
   ]
  },
  {
   "cell_type": "code",
   "execution_count": null,
   "metadata": {},
   "outputs": [],
   "source": [
    "GT_H = sponsor_nw.create_temporal_network(\n",
    "    data,\n",
    "    congresses=None,\n",
    "    bill_types=[\"hr\"],\n",
    "    policy_areas=None,\n",
    ")"
   ]
  },
  {
   "cell_type": "code",
   "execution_count": null,
   "metadata": {},
   "outputs": [],
   "source": [
    "# Backbone networks\n",
    "G_list_2 = [elem[\"bone\"] for elem in GT_S]\n",
    "\n",
    "sponsor_nw.draw_list_of_networks(\n",
    "    G_list_2,\n",
    "    captions=periods,\n",
    "    n_cols=6,\n",
    "    cell_size=(3, 3),\n",
    ")\n",
    "\n",
    "plt.show()"
   ]
  }
 ],
 "metadata": {
  "kernelspec": {
   "display_name": "py310",
   "language": "python",
   "name": "python3"
  },
  "language_info": {
   "codemirror_mode": {
    "name": "ipython",
    "version": 3
   },
   "file_extension": ".py",
   "mimetype": "text/x-python",
   "name": "python",
   "nbconvert_exporter": "python",
   "pygments_lexer": "ipython3",
   "version": "3.10.16"
  }
 },
 "nbformat": 4,
 "nbformat_minor": 2
}
